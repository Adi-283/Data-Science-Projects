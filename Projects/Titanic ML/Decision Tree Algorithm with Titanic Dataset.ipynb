{
 "cells": [
  {
   "cell_type": "code",
   "execution_count": 3,
   "id": "35cc51e0",
   "metadata": {},
   "outputs": [
    {
     "data": {
      "text/plain": [
       "0.8044692737430168"
      ]
     },
     "execution_count": 3,
     "metadata": {},
     "output_type": "execute_result"
    }
   ],
   "source": [
    "# import libraries\n",
    "import pandas as pd\n",
    "import numpy as np\n",
    "\n",
    "# import the dataset using pandas read_csv()\n",
    "df = pd.read_csv('titanic.csv')\n",
    "\n",
    "# drop the columns which are not required for the prediction\n",
    "df = df.drop(['PassengerId','Name','SibSp','Parch','Ticket','Cabin','Embarked'],axis=1)\n",
    "\n",
    "# clean the column age by adding empty values with mean of the column\n",
    "df = df.replace({np.nan:df.Age.mean()})\n",
    "\n",
    "# import label encoder to convert strings to integers\n",
    "from sklearn.preprocessing import LabelEncoder\n",
    "le_sex = LabelEncoder()\n",
    "\n",
    "# convert sex column using label encoder and delete the initial column\n",
    "df['Sex_n'] = le_sex.fit_transform(df['Sex'])\n",
    "df = df.drop(['Sex'],axis=1)\n",
    "\n",
    "# create array for x and y\n",
    "X = df.drop(['Survived'],axis=1)\n",
    "Y = df['Survived']\n",
    "Y=np.array(Y)\n",
    "\n",
    "# train test selection model from sklearn\n",
    "from sklearn.model_selection import train_test_split\n",
    "X_train,X_test,Y_train,Y_test = train_test_split(X,Y,test_size=0.2, random_state=42)\n",
    "\n",
    "# apply decision tree algorithm \n",
    "from sklearn.tree import DecisionTreeClassifier\n",
    "model = DecisionTreeClassifier(max_depth=5)\n",
    "model.fit(X_train,Y_train)\n",
    "Y_pred = model.predict(X_test)\n",
    "\n",
    "# print accuracy using metrics library\n",
    "from sklearn import metrics\n",
    "a=metrics.accuracy_score(Y_pred,Y_test)\n",
    "a\n"
   ]
  }
 ],
 "metadata": {
  "kernelspec": {
   "display_name": "Python 3",
   "language": "python",
   "name": "python3"
  },
  "language_info": {
   "codemirror_mode": {
    "name": "ipython",
    "version": 3
   },
   "file_extension": ".py",
   "mimetype": "text/x-python",
   "name": "python",
   "nbconvert_exporter": "python",
   "pygments_lexer": "ipython3",
   "version": "3.9.5"
  }
 },
 "nbformat": 4,
 "nbformat_minor": 5
}
